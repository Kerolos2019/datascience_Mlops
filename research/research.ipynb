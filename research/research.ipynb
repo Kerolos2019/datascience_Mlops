{
 "cells": [
  {
   "cell_type": "code",
   "execution_count": 1,
   "id": "892790bc",
   "metadata": {},
   "outputs": [],
   "source": [
    "from box import ConfigBox\n",
    "import os"
   ]
  },
  {
   "cell_type": "code",
   "execution_count": 2,
   "id": "24a163b6",
   "metadata": {},
   "outputs": [],
   "source": [
    "exaple = ConfigBox({\n",
    "    \"key\": \"value\",\n",
    "    \"key2\": 123,\n",
    "    \"key3\": [1, 2, 3],\n",
    "    \"key4\": (1, 2, 3),})"
   ]
  },
  {
   "cell_type": "code",
   "execution_count": 3,
   "id": "b05d88fa",
   "metadata": {},
   "outputs": [
    {
     "data": {
      "text/plain": [
       "123"
      ]
     },
     "execution_count": 3,
     "metadata": {},
     "output_type": "execute_result"
    }
   ],
   "source": [
    "exaple.key2"
   ]
  },
  {
   "cell_type": "code",
   "execution_count": 4,
   "id": "7d33bb05",
   "metadata": {},
   "outputs": [],
   "source": [
    "from ensure import ensure_annotations\n",
    "@ensure_annotations\n",
    "def get_prod(x:int ,y:int)->int:\n",
    "    return x * y\n",
    "    "
   ]
  },
  {
   "cell_type": "code",
   "execution_count": 5,
   "id": "c1c932ad",
   "metadata": {},
   "outputs": [
    {
     "data": {
      "text/plain": [
       "6"
      ]
     },
     "execution_count": 5,
     "metadata": {},
     "output_type": "execute_result"
    }
   ],
   "source": [
    "get_prod(2, 3)"
   ]
  },
  {
   "cell_type": "code",
   "execution_count": 6,
   "id": "e2f6c17b",
   "metadata": {},
   "outputs": [
    {
     "ename": "EnsureError",
     "evalue": "Argument y of type <class 'str'> to <function get_prod at 0x0000021A9A235BD0> does not match annotation type <class 'int'>",
     "output_type": "error",
     "traceback": [
      "\u001b[1;31m---------------------------------------------------------------------------\u001b[0m",
      "\u001b[1;31mEnsureError\u001b[0m                               Traceback (most recent call last)",
      "Cell \u001b[1;32mIn[6], line 1\u001b[0m\n\u001b[1;32m----> 1\u001b[0m \u001b[43mget_prod\u001b[49m\u001b[43m(\u001b[49m\u001b[38;5;241;43m2\u001b[39;49m\u001b[43m,\u001b[49m\u001b[43m \u001b[49m\u001b[38;5;124;43m\"\u001b[39;49m\u001b[38;5;124;43m3\u001b[39;49m\u001b[38;5;124;43m\"\u001b[39;49m\u001b[43m)\u001b[49m\n",
      "File \u001b[1;32mc:\\Users\\kerolos\\Anaconda3\\envs\\Mlops\\lib\\site-packages\\ensure\\main.py:870\u001b[0m, in \u001b[0;36mWrappedFunctionReturn.__call__\u001b[1;34m(self, *args, **kwargs)\u001b[0m\n\u001b[0;32m    868\u001b[0m     \u001b[38;5;28;01mif\u001b[39;00m \u001b[38;5;129;01mnot\u001b[39;00m \u001b[38;5;28misinstance\u001b[39m(value, templ):\n\u001b[0;32m    869\u001b[0m         msg \u001b[38;5;241m=\u001b[39m \u001b[38;5;124m\"\u001b[39m\u001b[38;5;124mArgument \u001b[39m\u001b[38;5;132;01m{arg}\u001b[39;00m\u001b[38;5;124m of type \u001b[39m\u001b[38;5;132;01m{valt}\u001b[39;00m\u001b[38;5;124m to \u001b[39m\u001b[38;5;132;01m{f}\u001b[39;00m\u001b[38;5;124m \u001b[39m\u001b[38;5;124m\"\u001b[39m \u001b[38;5;124m\"\u001b[39m\u001b[38;5;124mdoes not match annotation type \u001b[39m\u001b[38;5;132;01m{t}\u001b[39;00m\u001b[38;5;124m\"\u001b[39m\n\u001b[1;32m--> 870\u001b[0m         \u001b[38;5;28;01mraise\u001b[39;00m EnsureError(msg\u001b[38;5;241m.\u001b[39mformat(arg\u001b[38;5;241m=\u001b[39marg, f\u001b[38;5;241m=\u001b[39m\u001b[38;5;28mself\u001b[39m\u001b[38;5;241m.\u001b[39mf, t\u001b[38;5;241m=\u001b[39mtempl, valt\u001b[38;5;241m=\u001b[39m\u001b[38;5;28mtype\u001b[39m(value)))\n\u001b[0;32m    872\u001b[0m return_val \u001b[38;5;241m=\u001b[39m \u001b[38;5;28mself\u001b[39m\u001b[38;5;241m.\u001b[39mf(\u001b[38;5;241m*\u001b[39margs, \u001b[38;5;241m*\u001b[39m\u001b[38;5;241m*\u001b[39mkwargs)\n\u001b[0;32m    873\u001b[0m \u001b[38;5;28;01mif\u001b[39;00m \u001b[38;5;129;01mnot\u001b[39;00m \u001b[38;5;28misinstance\u001b[39m(return_val, \u001b[38;5;28mself\u001b[39m\u001b[38;5;241m.\u001b[39mreturn_templ):\n",
      "\u001b[1;31mEnsureError\u001b[0m: Argument y of type <class 'str'> to <function get_prod at 0x0000021A9A235BD0> does not match annotation type <class 'int'>"
     ]
    }
   ],
   "source": [
    "get_prod(2, \"3\")"
   ]
  },
  {
   "cell_type": "code",
   "execution_count": 7,
   "id": "3dcf87ce",
   "metadata": {},
   "outputs": [
    {
     "data": {
      "text/plain": [
       "'d:\\\\BISM\\\\datascience_mlops\\\\research'"
      ]
     },
     "execution_count": 7,
     "metadata": {},
     "output_type": "execute_result"
    }
   ],
   "source": [
    "%pwd"
   ]
  },
  {
   "cell_type": "code",
   "execution_count": 8,
   "id": "068a2183",
   "metadata": {},
   "outputs": [],
   "source": [
    "from dataclasses import dataclass\n",
    "from pathlib import Path\n",
    "\n",
    "\n",
    "@dataclass\n",
    "class DataIngestionConfig:\n",
    "    root_dir: Path\n",
    "    source_URL: str\n",
    "    local_data_file: Path\n",
    "    unzip_dir: Path\n"
   ]
  },
  {
   "cell_type": "code",
   "execution_count": 9,
   "id": "769574f5",
   "metadata": {},
   "outputs": [],
   "source": [
    "os.chdir(\"../\")"
   ]
  },
  {
   "cell_type": "code",
   "execution_count": 10,
   "id": "afebe5d7",
   "metadata": {},
   "outputs": [
    {
     "data": {
      "text/plain": [
       "'d:\\\\BISM\\\\datascience_mlops'"
      ]
     },
     "execution_count": 10,
     "metadata": {},
     "output_type": "execute_result"
    }
   ],
   "source": [
    "%pwd\n"
   ]
  },
  {
   "cell_type": "code",
   "execution_count": 11,
   "id": "c9c402a8",
   "metadata": {},
   "outputs": [],
   "source": [
    "from src.data_science_project.utils.common import read_yaml, create_directories\n",
    "from src.data_science_project.constants import *\n",
    "from src.data_science_project.constants import PARAMS_FILE_PATH\n"
   ]
  },
  {
   "cell_type": "code",
   "execution_count": 12,
   "id": "8446df86",
   "metadata": {},
   "outputs": [],
   "source": [
    "class ConfigurationManager:\n",
    "    def __init__(self, config_file_path=CONFIG_FILE_PATH,params_file_path=PARAMS_FILE_PATH,schema_file_path=SCHEMA_FILE_PATH):\n",
    "        self.config = read_yaml(config_file_path)\n",
    "        self.params = read_yaml(params_file_path)\n",
    "        self.schema = read_yaml(schema_file_path)\n",
    "        create_directories([self.config.artifacts_root])\n",
    "    def get_data_ingestion_config(self)-> DataIngestionConfig:\n",
    "        config= self.config.data_ingestion\n",
    "        create_directories([config.root_dir])\n",
    "\n",
    "        data_ingestion_config = DataIngestionConfig(root_dir=config.root_dir,\n",
    "            source_URL=config.source_URL,\n",
    "            local_data_file=config.local_data_file,\n",
    "            unzip_dir=config.unzip_dir)\n",
    "        return data_ingestion_config\n",
    "\n",
    "    "
   ]
  },
  {
   "cell_type": "code",
   "execution_count": 13,
   "id": "9824095e",
   "metadata": {},
   "outputs": [],
   "source": [
    "import os\n",
    "import urllib.request as requests    \n",
    "from src.data_science_project import logger\n",
    "import zipfile"
   ]
  },
  {
   "cell_type": "code",
   "execution_count": 18,
   "id": "c0d49ee6",
   "metadata": {},
   "outputs": [],
   "source": [
    "class Dataingestion:\n",
    "    def __init__(self, config: DataIngestionConfig):\n",
    "        self.config = config\n",
    "    #download the file from the source URL and save it to local path\n",
    "\n",
    "    def download_file(self):\n",
    "        if not os.path.exists(self.config.local_data_file):\n",
    "            file_name,header = requests.urlretrieve(\n",
    "                url=self.config.source_URL,\n",
    "                filename=self.config.local_data_file\n",
    "            )\n",
    "            logger.info(f\"{file_name} downloaded successfully\")\n",
    "        else:\n",
    "            logger.info(f\"File already exists at {self.config.local_data_file}\")\n",
    "        \n",
    "\n",
    "\n",
    "    def extract_zip_file(self):\n",
    "        unzib_path=self.config.unzip_dir\n",
    "        os.makedirs(unzib_path,exist_ok=True)\n",
    "        with zipfile.ZipFile(self.config.local_data_file,'r') as zip_ref:\n",
    "            zip_ref.extractall(unzib_path)\n",
    "        \n"
   ]
  },
  {
   "cell_type": "code",
   "execution_count": 19,
   "id": "be693abe",
   "metadata": {},
   "outputs": [
    {
     "name": "stdout",
     "output_type": "stream",
     "text": [
      "[2025-05-02 15:19:02,467: INFO: common: yaml file: config\\config.yaml loaded successfully]\n",
      "[2025-05-02 15:19:02,470: INFO: common: yaml file: params.yaml loaded successfully]\n",
      "[2025-05-02 15:19:02,475: INFO: common: yaml file: schema.yaml loaded successfully]\n",
      "[2025-05-02 15:19:02,479: INFO: common: created directory at: artifacts]\n",
      "[2025-05-02 15:19:02,484: INFO: common: created directory at: artifacts/data_ingestion]\n",
      "[2025-05-02 15:19:02,487: INFO: 2525656938: File already exists at artifacts/data_ingestion/data.zip]\n"
     ]
    }
   ],
   "source": [
    "try:\n",
    "    config = ConfigurationManager()\n",
    "    data_ingestion_config = config.get_data_ingestion_config()\n",
    "    dataingestion = Dataingestion(config=data_ingestion_config)\n",
    "    dataingestion.download_file()\n",
    "    dataingestion.extract_zip_file()\n",
    "except Exception as e:\n",
    "    raise e "
   ]
  },
  {
   "cell_type": "code",
   "execution_count": null,
   "id": "6baf0ac1",
   "metadata": {},
   "outputs": [],
   "source": []
  }
 ],
 "metadata": {
  "kernelspec": {
   "display_name": "Mlops",
   "language": "python",
   "name": "python3"
  },
  "language_info": {
   "codemirror_mode": {
    "name": "ipython",
    "version": 3
   },
   "file_extension": ".py",
   "mimetype": "text/x-python",
   "name": "python",
   "nbconvert_exporter": "python",
   "pygments_lexer": "ipython3",
   "version": "3.10.9"
  }
 },
 "nbformat": 4,
 "nbformat_minor": 5
}
